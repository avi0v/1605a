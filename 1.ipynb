{
 "cells": [
  {
   "cell_type": "code",
   "execution_count": 1,
   "metadata": {},
   "outputs": [],
   "source": [
    "a=[0,1,0,1]\n",
    "b=[0,1,1,0]\n"
   ]
  },
  {
   "cell_type": "code",
   "execution_count": 2,
   "metadata": {},
   "outputs": [
    {
     "name": "stdout",
     "output_type": "stream",
     "text": [
      "0 0 ['FN']\n",
      "1 1 ['FN', 'TP']\n",
      "0 1 ['FN', 'TP', 'FP']\n",
      "1 0 ['FN', 'TP', 'FP', 'TN']\n"
     ]
    },
    {
     "data": {
      "text/plain": [
       "['FN', 'TP', 'FP', 'TN']"
      ]
     },
     "execution_count": 2,
     "metadata": {},
     "output_type": "execute_result"
    }
   ],
   "source": [
    "c=[]\n",
    "for i,j in zip(a,b):\n",
    "    if i==0 and j==0:\n",
    "        c.append('FN')\n",
    "        print(i,j,c)\n",
    "    elif i==1 and j==1:\n",
    "        c.append('TP')\n",
    "        print(i,j,c)\n",
    "    elif i==0 and j==1:\n",
    "        c.append('FP')\n",
    "        print(i,j,c)\n",
    "    else:\n",
    "        c.append('TN')\n",
    "        print(i,j,c)\n",
    "c"
   ]
  },
  {
   "cell_type": "code",
   "execution_count": 4,
   "metadata": {},
   "outputs": [
    {
     "name": "stdout",
     "output_type": "stream",
     "text": [
      "0 0 ['FN']\n",
      "1 1 ['FN', 'TP']\n",
      "0 1 ['FN', 'TP', 'FN']\n",
      "1 0 ['FN', 'TP', 'FN', 'TN']\n"
     ]
    },
    {
     "data": {
      "text/plain": [
       "['FN', 'TP', 'FN', 'TN']"
      ]
     },
     "execution_count": 4,
     "metadata": {},
     "output_type": "execute_result"
    }
   ],
   "source": [
    "c=[]\n",
    "for i,j in zip(a,b):\n",
    "    if i==0 & j==0:\n",
    "        c.append('FN')\n",
    "        print(i,j,c)\n",
    "    elif i==1 & j==1:\n",
    "        c.append('TP')\n",
    "        print(i,j,c)\n",
    "    elif i==0 & j==1:\n",
    "        c.append('FP')\n",
    "        print(i,j,c)\n",
    "    else:\n",
    "        c.append('TN')\n",
    "        print(i,j,c)\n",
    "c"
   ]
  },
  {
   "cell_type": "code",
   "execution_count": 3,
   "metadata": {},
   "outputs": [],
   "source": [
    "# & - bitwise and\n",
    "# and - T/F"
   ]
  }
 ],
 "metadata": {
  "kernelspec": {
   "display_name": "Python 3",
   "language": "python",
   "name": "python3"
  },
  "language_info": {
   "codemirror_mode": {
    "name": "ipython",
    "version": 3
   },
   "file_extension": ".py",
   "mimetype": "text/x-python",
   "name": "python",
   "nbconvert_exporter": "python",
   "pygments_lexer": "ipython3",
   "version": "3.11.2"
  },
  "orig_nbformat": 4
 },
 "nbformat": 4,
 "nbformat_minor": 2
}
